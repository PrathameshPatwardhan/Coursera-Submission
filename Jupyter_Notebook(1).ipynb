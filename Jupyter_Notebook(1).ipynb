{
 "cells": [
  {
   "cell_type": "markdown",
   "metadata": {},
   "source": [
    "<title> Jupyter_Notebook1 </title>"
   ]
  },
  {
   "cell_type": "markdown",
   "metadata": {},
   "source": [
    "Introduction <h1>My Jupiter Notebook on IBM Watson Studio</h1> "
   ]
  },
  {
   "cell_type": "markdown",
   "metadata": {},
   "source": [
    "-  Python\n",
    "-  R\n",
    "-  SQL\n",
    "-  Java\n",
    "-  Julia\n",
    "-  Scala\n",
    "\n"
   ]
  },
  {
   "cell_type": "markdown",
   "metadata": {},
   "source": [
    "1 TensorFlow <br>\n",
    "2 NumPy <br>\n",
    "3 SciPy <br>\n",
    "4 Pandas <br>\n",
    "5 Matplotlib <br>"
   ]
  },
  {
   "cell_type": "markdown",
   "metadata": {},
   "source": [
    "|   List of  | Data Science tools |\n",
    "|--------|--------------|\n",
    "| Big ML |      D3      |\n",
    "| SAS | Apache Spark |\n"
   ]
  },
  {
   "cell_type": "markdown",
   "metadata": {},
   "source": [
    "<h3> The code below is supposed to display the sum and product of two numbers </h3>"
   ]
  },
  {
   "cell_type": "code",
   "execution_count": 3,
   "metadata": {},
   "outputs": [
    {
     "name": "stdout",
     "output_type": "stream",
     "text": [
      "19\n",
      "90\n"
     ]
    }
   ],
   "source": [
    "a = 9\n",
    "b = 10\n",
    "\n",
    "sum = a+b\n",
    "prod = a*b\n",
    "\n",
    "print (sum)\n",
    "print (prod)\n"
   ]
  },
  {
   "cell_type": "markdown",
   "metadata": {},
   "source": [
    "<h3> The code below is to convert minutes to hours </h3>"
   ]
  },
  {
   "cell_type": "code",
   "execution_count": 20,
   "metadata": {},
   "outputs": [
    {
     "name": "stdin",
     "output_type": "stream",
     "text": [
      "Enter minutes to be converted:  800\n"
     ]
    },
    {
     "name": "stdout",
     "output_type": "stream",
     "text": [
      "13\n"
     ]
    }
   ],
   "source": [
    "total_minutes = int(input(\"Enter minutes to be converted: \"))\n",
    "\n",
    "hours = total_minutes // 60\n",
    "\n",
    "print(hours)"
   ]
  },
  {
   "cell_type": "markdown",
   "metadata": {},
   "source": [
    "**Objectives**\n",
    "- To write a code to display sum and product and product of numbers\n",
    "- To write a code to convert minutes to hours\n",
    "- To list tools used in data science\n",
    "- To list programming languages used in data science\n"
   ]
  },
  {
   "cell_type": "markdown",
   "metadata": {},
   "source": [
    "*I am interested in data science because it gives an opening to various kinds of creative ideas and also has large number of opportunities.\n",
    "    I also enrolled for the data science course for having an exposure to various programming languages*"
   ]
  },
  {
   "cell_type": "markdown",
   "metadata": {},
   "source": [
    "<html>"
   ]
  }
 ],
 "metadata": {
  "kernelspec": {
   "display_name": "Python",
   "language": "python",
   "name": "conda-env-python-py"
  },
  "language_info": {
   "codemirror_mode": {
    "name": "ipython",
    "version": 3
   },
   "file_extension": ".py",
   "mimetype": "text/x-python",
   "name": "python",
   "nbconvert_exporter": "python",
   "pygments_lexer": "ipython3",
   "version": "3.7.12"
  }
 },
 "nbformat": 4,
 "nbformat_minor": 4
}
